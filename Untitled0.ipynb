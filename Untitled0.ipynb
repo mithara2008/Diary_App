{
  "nbformat": 4,
  "nbformat_minor": 0,
  "metadata": {
    "colab": {
      "provenance": [],
      "authorship_tag": "ABX9TyN8QfLWFMYy72wtLAhn/CaD",
      "include_colab_link": true
    },
    "kernelspec": {
      "name": "python3",
      "display_name": "Python 3"
    },
    "language_info": {
      "name": "python"
    }
  },
  "cells": [
    {
      "cell_type": "markdown",
      "metadata": {
        "id": "view-in-github",
        "colab_type": "text"
      },
      "source": [
        "<a href=\"https://colab.research.google.com/github/mithara2008/Diary_App/blob/master/Untitled0.ipynb\" target=\"_parent\"><img src=\"https://colab.research.google.com/assets/colab-badge.svg\" alt=\"Open In Colab\"/></a>"
      ]
    },
    {
      "cell_type": "code",
      "execution_count": 1,
      "metadata": {
        "id": "6Mhj5wa8OD7C"
      },
      "outputs": [],
      "source": [
        "import pandas as pd"
      ]
    },
    {
      "cell_type": "code",
      "source": [
        "import numpy as np"
      ],
      "metadata": {
        "id": "KL2jnAAYO0QI"
      },
      "execution_count": 2,
      "outputs": []
    },
    {
      "cell_type": "code",
      "source": [
        "from matplotlib import pyplot as plt"
      ],
      "metadata": {
        "id": "NsTEyN7HPZcP"
      },
      "execution_count": 45,
      "outputs": []
    },
    {
      "cell_type": "code",
      "source": [
        "raw_data=pd.read_csv(\"loan.csv\")"
      ],
      "metadata": {
        "id": "6_pfI-vuPx04"
      },
      "execution_count": 5,
      "outputs": []
    },
    {
      "cell_type": "code",
      "source": [
        "raw_data.head()"
      ],
      "metadata": {
        "colab": {
          "base_uri": "https://localhost:8080/",
          "height": 342
        },
        "id": "eHEmyrHjRJPM",
        "outputId": "87872fd3-09ce-4fb0-be9e-f43e6e98aa12"
      },
      "execution_count": 6,
      "outputs": [
        {
          "output_type": "execute_result",
          "data": {
            "text/plain": [
              "   id  member_id  loan_amnt  funded_amnt  funded_amnt_inv        term  \\\n",
              "0 NaN        NaN       2500         2500             2500   36 months   \n",
              "1 NaN        NaN      30000        30000            30000   60 months   \n",
              "2 NaN        NaN       5000         5000             5000   36 months   \n",
              "3 NaN        NaN       4000         4000             4000   36 months   \n",
              "4 NaN        NaN      30000        30000            30000   60 months   \n",
              "\n",
              "   int_rate  installment grade sub_grade  ... hardship_payoff_balance_amount  \\\n",
              "0     13.56        84.92     C        C1  ...                            NaN   \n",
              "1     18.94       777.23     D        D2  ...                            NaN   \n",
              "2     17.97       180.69     D        D1  ...                            NaN   \n",
              "3     18.94       146.51     D        D2  ...                            NaN   \n",
              "4     16.14       731.78     C        C4  ...                            NaN   \n",
              "\n",
              "  hardship_last_payment_amount disbursement_method  debt_settlement_flag  \\\n",
              "0                          NaN                Cash                     N   \n",
              "1                          NaN                Cash                     N   \n",
              "2                          NaN                Cash                     N   \n",
              "3                          NaN                Cash                     N   \n",
              "4                          NaN                Cash                     N   \n",
              "\n",
              "  debt_settlement_flag_date settlement_status settlement_date  \\\n",
              "0                       NaN               NaN             NaN   \n",
              "1                       NaN               NaN             NaN   \n",
              "2                       NaN               NaN             NaN   \n",
              "3                       NaN               NaN             NaN   \n",
              "4                       NaN               NaN             NaN   \n",
              "\n",
              "  settlement_amount  settlement_percentage  settlement_term  \n",
              "0               NaN                    NaN              NaN  \n",
              "1               NaN                    NaN              NaN  \n",
              "2               NaN                    NaN              NaN  \n",
              "3               NaN                    NaN              NaN  \n",
              "4               NaN                    NaN              NaN  \n",
              "\n",
              "[5 rows x 142 columns]"
            ],
            "text/html": [
              "\n",
              "  <div id=\"df-fe99a082-aee7-4ee6-a491-e20b0d0ae29e\" class=\"colab-df-container\">\n",
              "    <div>\n",
              "<style scoped>\n",
              "    .dataframe tbody tr th:only-of-type {\n",
              "        vertical-align: middle;\n",
              "    }\n",
              "\n",
              "    .dataframe tbody tr th {\n",
              "        vertical-align: top;\n",
              "    }\n",
              "\n",
              "    .dataframe thead th {\n",
              "        text-align: right;\n",
              "    }\n",
              "</style>\n",
              "<table border=\"1\" class=\"dataframe\">\n",
              "  <thead>\n",
              "    <tr style=\"text-align: right;\">\n",
              "      <th></th>\n",
              "      <th>id</th>\n",
              "      <th>member_id</th>\n",
              "      <th>loan_amnt</th>\n",
              "      <th>funded_amnt</th>\n",
              "      <th>funded_amnt_inv</th>\n",
              "      <th>term</th>\n",
              "      <th>int_rate</th>\n",
              "      <th>installment</th>\n",
              "      <th>grade</th>\n",
              "      <th>sub_grade</th>\n",
              "      <th>...</th>\n",
              "      <th>hardship_payoff_balance_amount</th>\n",
              "      <th>hardship_last_payment_amount</th>\n",
              "      <th>disbursement_method</th>\n",
              "      <th>debt_settlement_flag</th>\n",
              "      <th>debt_settlement_flag_date</th>\n",
              "      <th>settlement_status</th>\n",
              "      <th>settlement_date</th>\n",
              "      <th>settlement_amount</th>\n",
              "      <th>settlement_percentage</th>\n",
              "      <th>settlement_term</th>\n",
              "    </tr>\n",
              "  </thead>\n",
              "  <tbody>\n",
              "    <tr>\n",
              "      <th>0</th>\n",
              "      <td>NaN</td>\n",
              "      <td>NaN</td>\n",
              "      <td>2500</td>\n",
              "      <td>2500</td>\n",
              "      <td>2500</td>\n",
              "      <td>36 months</td>\n",
              "      <td>13.56</td>\n",
              "      <td>84.92</td>\n",
              "      <td>C</td>\n",
              "      <td>C1</td>\n",
              "      <td>...</td>\n",
              "      <td>NaN</td>\n",
              "      <td>NaN</td>\n",
              "      <td>Cash</td>\n",
              "      <td>N</td>\n",
              "      <td>NaN</td>\n",
              "      <td>NaN</td>\n",
              "      <td>NaN</td>\n",
              "      <td>NaN</td>\n",
              "      <td>NaN</td>\n",
              "      <td>NaN</td>\n",
              "    </tr>\n",
              "    <tr>\n",
              "      <th>1</th>\n",
              "      <td>NaN</td>\n",
              "      <td>NaN</td>\n",
              "      <td>30000</td>\n",
              "      <td>30000</td>\n",
              "      <td>30000</td>\n",
              "      <td>60 months</td>\n",
              "      <td>18.94</td>\n",
              "      <td>777.23</td>\n",
              "      <td>D</td>\n",
              "      <td>D2</td>\n",
              "      <td>...</td>\n",
              "      <td>NaN</td>\n",
              "      <td>NaN</td>\n",
              "      <td>Cash</td>\n",
              "      <td>N</td>\n",
              "      <td>NaN</td>\n",
              "      <td>NaN</td>\n",
              "      <td>NaN</td>\n",
              "      <td>NaN</td>\n",
              "      <td>NaN</td>\n",
              "      <td>NaN</td>\n",
              "    </tr>\n",
              "    <tr>\n",
              "      <th>2</th>\n",
              "      <td>NaN</td>\n",
              "      <td>NaN</td>\n",
              "      <td>5000</td>\n",
              "      <td>5000</td>\n",
              "      <td>5000</td>\n",
              "      <td>36 months</td>\n",
              "      <td>17.97</td>\n",
              "      <td>180.69</td>\n",
              "      <td>D</td>\n",
              "      <td>D1</td>\n",
              "      <td>...</td>\n",
              "      <td>NaN</td>\n",
              "      <td>NaN</td>\n",
              "      <td>Cash</td>\n",
              "      <td>N</td>\n",
              "      <td>NaN</td>\n",
              "      <td>NaN</td>\n",
              "      <td>NaN</td>\n",
              "      <td>NaN</td>\n",
              "      <td>NaN</td>\n",
              "      <td>NaN</td>\n",
              "    </tr>\n",
              "    <tr>\n",
              "      <th>3</th>\n",
              "      <td>NaN</td>\n",
              "      <td>NaN</td>\n",
              "      <td>4000</td>\n",
              "      <td>4000</td>\n",
              "      <td>4000</td>\n",
              "      <td>36 months</td>\n",
              "      <td>18.94</td>\n",
              "      <td>146.51</td>\n",
              "      <td>D</td>\n",
              "      <td>D2</td>\n",
              "      <td>...</td>\n",
              "      <td>NaN</td>\n",
              "      <td>NaN</td>\n",
              "      <td>Cash</td>\n",
              "      <td>N</td>\n",
              "      <td>NaN</td>\n",
              "      <td>NaN</td>\n",
              "      <td>NaN</td>\n",
              "      <td>NaN</td>\n",
              "      <td>NaN</td>\n",
              "      <td>NaN</td>\n",
              "    </tr>\n",
              "    <tr>\n",
              "      <th>4</th>\n",
              "      <td>NaN</td>\n",
              "      <td>NaN</td>\n",
              "      <td>30000</td>\n",
              "      <td>30000</td>\n",
              "      <td>30000</td>\n",
              "      <td>60 months</td>\n",
              "      <td>16.14</td>\n",
              "      <td>731.78</td>\n",
              "      <td>C</td>\n",
              "      <td>C4</td>\n",
              "      <td>...</td>\n",
              "      <td>NaN</td>\n",
              "      <td>NaN</td>\n",
              "      <td>Cash</td>\n",
              "      <td>N</td>\n",
              "      <td>NaN</td>\n",
              "      <td>NaN</td>\n",
              "      <td>NaN</td>\n",
              "      <td>NaN</td>\n",
              "      <td>NaN</td>\n",
              "      <td>NaN</td>\n",
              "    </tr>\n",
              "  </tbody>\n",
              "</table>\n",
              "<p>5 rows × 142 columns</p>\n",
              "</div>\n",
              "    <div class=\"colab-df-buttons\">\n",
              "\n",
              "  <div class=\"colab-df-container\">\n",
              "    <button class=\"colab-df-convert\" onclick=\"convertToInteractive('df-fe99a082-aee7-4ee6-a491-e20b0d0ae29e')\"\n",
              "            title=\"Convert this dataframe to an interactive table.\"\n",
              "            style=\"display:none;\">\n",
              "\n",
              "  <svg xmlns=\"http://www.w3.org/2000/svg\" height=\"24px\" viewBox=\"0 -960 960 960\">\n",
              "    <path d=\"M120-120v-720h720v720H120Zm60-500h600v-160H180v160Zm220 220h160v-160H400v160Zm0 220h160v-160H400v160ZM180-400h160v-160H180v160Zm440 0h160v-160H620v160ZM180-180h160v-160H180v160Zm440 0h160v-160H620v160Z\"/>\n",
              "  </svg>\n",
              "    </button>\n",
              "\n",
              "  <style>\n",
              "    .colab-df-container {\n",
              "      display:flex;\n",
              "      gap: 12px;\n",
              "    }\n",
              "\n",
              "    .colab-df-convert {\n",
              "      background-color: #E8F0FE;\n",
              "      border: none;\n",
              "      border-radius: 50%;\n",
              "      cursor: pointer;\n",
              "      display: none;\n",
              "      fill: #1967D2;\n",
              "      height: 32px;\n",
              "      padding: 0 0 0 0;\n",
              "      width: 32px;\n",
              "    }\n",
              "\n",
              "    .colab-df-convert:hover {\n",
              "      background-color: #E2EBFA;\n",
              "      box-shadow: 0px 1px 2px rgba(60, 64, 67, 0.3), 0px 1px 3px 1px rgba(60, 64, 67, 0.15);\n",
              "      fill: #174EA6;\n",
              "    }\n",
              "\n",
              "    .colab-df-buttons div {\n",
              "      margin-bottom: 4px;\n",
              "    }\n",
              "\n",
              "    [theme=dark] .colab-df-convert {\n",
              "      background-color: #3B4455;\n",
              "      fill: #D2E3FC;\n",
              "    }\n",
              "\n",
              "    [theme=dark] .colab-df-convert:hover {\n",
              "      background-color: #434B5C;\n",
              "      box-shadow: 0px 1px 3px 1px rgba(0, 0, 0, 0.15);\n",
              "      filter: drop-shadow(0px 1px 2px rgba(0, 0, 0, 0.3));\n",
              "      fill: #FFFFFF;\n",
              "    }\n",
              "  </style>\n",
              "\n",
              "    <script>\n",
              "      const buttonEl =\n",
              "        document.querySelector('#df-fe99a082-aee7-4ee6-a491-e20b0d0ae29e button.colab-df-convert');\n",
              "      buttonEl.style.display =\n",
              "        google.colab.kernel.accessAllowed ? 'block' : 'none';\n",
              "\n",
              "      async function convertToInteractive(key) {\n",
              "        const element = document.querySelector('#df-fe99a082-aee7-4ee6-a491-e20b0d0ae29e');\n",
              "        const dataTable =\n",
              "          await google.colab.kernel.invokeFunction('convertToInteractive',\n",
              "                                                    [key], {});\n",
              "        if (!dataTable) return;\n",
              "\n",
              "        const docLinkHtml = 'Like what you see? Visit the ' +\n",
              "          '<a target=\"_blank\" href=https://colab.research.google.com/notebooks/data_table.ipynb>data table notebook</a>'\n",
              "          + ' to learn more about interactive tables.';\n",
              "        element.innerHTML = '';\n",
              "        dataTable['output_type'] = 'display_data';\n",
              "        await google.colab.output.renderOutput(dataTable, element);\n",
              "        const docLink = document.createElement('div');\n",
              "        docLink.innerHTML = docLinkHtml;\n",
              "        element.appendChild(docLink);\n",
              "      }\n",
              "    </script>\n",
              "  </div>\n",
              "\n",
              "\n",
              "<div id=\"df-225043bb-1b73-4bd7-aba8-a76d1310ecce\">\n",
              "  <button class=\"colab-df-quickchart\" onclick=\"quickchart('df-225043bb-1b73-4bd7-aba8-a76d1310ecce')\"\n",
              "            title=\"Suggest charts\"\n",
              "            style=\"display:none;\">\n",
              "\n",
              "<svg xmlns=\"http://www.w3.org/2000/svg\" height=\"24px\"viewBox=\"0 0 24 24\"\n",
              "     width=\"24px\">\n",
              "    <g>\n",
              "        <path d=\"M19 3H5c-1.1 0-2 .9-2 2v14c0 1.1.9 2 2 2h14c1.1 0 2-.9 2-2V5c0-1.1-.9-2-2-2zM9 17H7v-7h2v7zm4 0h-2V7h2v10zm4 0h-2v-4h2v4z\"/>\n",
              "    </g>\n",
              "</svg>\n",
              "  </button>\n",
              "\n",
              "<style>\n",
              "  .colab-df-quickchart {\n",
              "      --bg-color: #E8F0FE;\n",
              "      --fill-color: #1967D2;\n",
              "      --hover-bg-color: #E2EBFA;\n",
              "      --hover-fill-color: #174EA6;\n",
              "      --disabled-fill-color: #AAA;\n",
              "      --disabled-bg-color: #DDD;\n",
              "  }\n",
              "\n",
              "  [theme=dark] .colab-df-quickchart {\n",
              "      --bg-color: #3B4455;\n",
              "      --fill-color: #D2E3FC;\n",
              "      --hover-bg-color: #434B5C;\n",
              "      --hover-fill-color: #FFFFFF;\n",
              "      --disabled-bg-color: #3B4455;\n",
              "      --disabled-fill-color: #666;\n",
              "  }\n",
              "\n",
              "  .colab-df-quickchart {\n",
              "    background-color: var(--bg-color);\n",
              "    border: none;\n",
              "    border-radius: 50%;\n",
              "    cursor: pointer;\n",
              "    display: none;\n",
              "    fill: var(--fill-color);\n",
              "    height: 32px;\n",
              "    padding: 0;\n",
              "    width: 32px;\n",
              "  }\n",
              "\n",
              "  .colab-df-quickchart:hover {\n",
              "    background-color: var(--hover-bg-color);\n",
              "    box-shadow: 0 1px 2px rgba(60, 64, 67, 0.3), 0 1px 3px 1px rgba(60, 64, 67, 0.15);\n",
              "    fill: var(--button-hover-fill-color);\n",
              "  }\n",
              "\n",
              "  .colab-df-quickchart-complete:disabled,\n",
              "  .colab-df-quickchart-complete:disabled:hover {\n",
              "    background-color: var(--disabled-bg-color);\n",
              "    fill: var(--disabled-fill-color);\n",
              "    box-shadow: none;\n",
              "  }\n",
              "\n",
              "  .colab-df-spinner {\n",
              "    border: 2px solid var(--fill-color);\n",
              "    border-color: transparent;\n",
              "    border-bottom-color: var(--fill-color);\n",
              "    animation:\n",
              "      spin 1s steps(1) infinite;\n",
              "  }\n",
              "\n",
              "  @keyframes spin {\n",
              "    0% {\n",
              "      border-color: transparent;\n",
              "      border-bottom-color: var(--fill-color);\n",
              "      border-left-color: var(--fill-color);\n",
              "    }\n",
              "    20% {\n",
              "      border-color: transparent;\n",
              "      border-left-color: var(--fill-color);\n",
              "      border-top-color: var(--fill-color);\n",
              "    }\n",
              "    30% {\n",
              "      border-color: transparent;\n",
              "      border-left-color: var(--fill-color);\n",
              "      border-top-color: var(--fill-color);\n",
              "      border-right-color: var(--fill-color);\n",
              "    }\n",
              "    40% {\n",
              "      border-color: transparent;\n",
              "      border-right-color: var(--fill-color);\n",
              "      border-top-color: var(--fill-color);\n",
              "    }\n",
              "    60% {\n",
              "      border-color: transparent;\n",
              "      border-right-color: var(--fill-color);\n",
              "    }\n",
              "    80% {\n",
              "      border-color: transparent;\n",
              "      border-right-color: var(--fill-color);\n",
              "      border-bottom-color: var(--fill-color);\n",
              "    }\n",
              "    90% {\n",
              "      border-color: transparent;\n",
              "      border-bottom-color: var(--fill-color);\n",
              "    }\n",
              "  }\n",
              "</style>\n",
              "\n",
              "  <script>\n",
              "    async function quickchart(key) {\n",
              "      const quickchartButtonEl =\n",
              "        document.querySelector('#' + key + ' button');\n",
              "      quickchartButtonEl.disabled = true;  // To prevent multiple clicks.\n",
              "      quickchartButtonEl.classList.add('colab-df-spinner');\n",
              "      try {\n",
              "        const charts = await google.colab.kernel.invokeFunction(\n",
              "            'suggestCharts', [key], {});\n",
              "      } catch (error) {\n",
              "        console.error('Error during call to suggestCharts:', error);\n",
              "      }\n",
              "      quickchartButtonEl.classList.remove('colab-df-spinner');\n",
              "      quickchartButtonEl.classList.add('colab-df-quickchart-complete');\n",
              "    }\n",
              "    (() => {\n",
              "      let quickchartButtonEl =\n",
              "        document.querySelector('#df-225043bb-1b73-4bd7-aba8-a76d1310ecce button');\n",
              "      quickchartButtonEl.style.display =\n",
              "        google.colab.kernel.accessAllowed ? 'block' : 'none';\n",
              "    })();\n",
              "  </script>\n",
              "</div>\n",
              "\n",
              "    </div>\n",
              "  </div>\n"
            ],
            "application/vnd.google.colaboratory.intrinsic+json": {
              "type": "dataframe",
              "variable_name": "raw_data"
            }
          },
          "metadata": {},
          "execution_count": 6
        }
      ]
    },
    {
      "cell_type": "code",
      "source": [
        "raw_data.shape"
      ],
      "metadata": {
        "colab": {
          "base_uri": "https://localhost:8080/"
        },
        "id": "JgHQ1SkQSL_4",
        "outputId": "8d8c26a3-e5d8-4241-8fa8-8bc4c61fee3d"
      },
      "execution_count": 7,
      "outputs": [
        {
          "output_type": "execute_result",
          "data": {
            "text/plain": [
              "(20000, 142)"
            ]
          },
          "metadata": {},
          "execution_count": 7
        }
      ]
    },
    {
      "cell_type": "code",
      "source": [
        "raw_data.dtypes"
      ],
      "metadata": {
        "colab": {
          "base_uri": "https://localhost:8080/"
        },
        "id": "ha4uD_AwTv0F",
        "outputId": "e15b0323-1ea4-4b4d-ded7-f026ec41c523"
      },
      "execution_count": 8,
      "outputs": [
        {
          "output_type": "execute_result",
          "data": {
            "text/plain": [
              "id                       float64\n",
              "member_id                float64\n",
              "loan_amnt                  int64\n",
              "funded_amnt                int64\n",
              "funded_amnt_inv            int64\n",
              "                          ...   \n",
              "settlement_status        float64\n",
              "settlement_date          float64\n",
              "settlement_amount        float64\n",
              "settlement_percentage    float64\n",
              "settlement_term          float64\n",
              "Length: 142, dtype: object"
            ]
          },
          "metadata": {},
          "execution_count": 8
        }
      ]
    },
    {
      "cell_type": "code",
      "source": [
        "raw_data['loan_amnt'].describe()"
      ],
      "metadata": {
        "colab": {
          "base_uri": "https://localhost:8080/"
        },
        "id": "1d5Fx-8RUCyd",
        "outputId": "6b7c73bd-1c37-4f31-a7b0-4f198c586023"
      },
      "execution_count": 9,
      "outputs": [
        {
          "output_type": "execute_result",
          "data": {
            "text/plain": [
              "count    20000.000000\n",
              "mean     16111.383750\n",
              "std      10369.193761\n",
              "min       1000.000000\n",
              "25%       8000.000000\n",
              "50%      14000.000000\n",
              "75%      22000.000000\n",
              "max      40000.000000\n",
              "Name: loan_amnt, dtype: float64"
            ]
          },
          "metadata": {},
          "execution_count": 9
        }
      ]
    },
    {
      "cell_type": "code",
      "source": [
        "raw_data= raw_data.drop(['zip_code', 'policy_code', 'application_type', 'last_credit_pull_d',\n",
        "'verification_status', 'pymnt_plan', 'funded_amnt_inv', 'sub_grade', ‘out_prncp',\n",
        "'out_prncp_inv', 'total_pymnt_inv', 'total_pymnt', ‘total_pymnt_inv', 'total_rec_prncp',\n",
        "'total_rec_int', 'total_rec_late_fee', 'recoveries', 'collection_recovery_fee', 'last_pymnt_d',\n",
        "‘last_pymnt_amnt', 'initial_list_status'], axis =1)"
      ],
      "metadata": {
        "colab": {
          "base_uri": "https://localhost:8080/",
          "height": 106
        },
        "id": "dka6NC6VVias",
        "outputId": "7a3e170e-e40d-4a94-e669-8cc726e231c1"
      },
      "execution_count": 10,
      "outputs": [
        {
          "output_type": "error",
          "ename": "SyntaxError",
          "evalue": "invalid character '‘' (U+2018) (<ipython-input-10-798052ab5a37>, line 2)",
          "traceback": [
            "\u001b[0;36m  File \u001b[0;32m\"<ipython-input-10-798052ab5a37>\"\u001b[0;36m, line \u001b[0;32m2\u001b[0m\n\u001b[0;31m    'verification_status', 'pymnt_plan', 'funded_amnt_inv', 'sub_grade', ‘out_prncp',\u001b[0m\n\u001b[0m                                                                         ^\u001b[0m\n\u001b[0;31mSyntaxError\u001b[0m\u001b[0;31m:\u001b[0m invalid character '‘' (U+2018)\n"
          ]
        }
      ]
    },
    {
      "cell_type": "code",
      "source": [
        "raw_data= raw_data.drop(['zip_code', 'policy_code', 'application_type', 'last_credit_pull_d',\n",
        "'verification_status', 'pymnt_plan', 'funded_amnt_inv', 'sub_grade', 'out_prncp',\n",
        "'out_prncp_inv', 'total_pymnt_inv', 'total_pymnt', 'total_pymnt_inv', 'total_rec_prncp',\n",
        "'total_rec_int', 'total_rec_late_fee', 'recoveries', 'collection_recovery_fee', 'last_pymnt_d',\n",
        "'last_pymnt_amnt', 'initial_list_status'], axis =1)"
      ],
      "metadata": {
        "id": "XJC28Ve_Vo00"
      },
      "execution_count": 11,
      "outputs": []
    },
    {
      "cell_type": "code",
      "source": [
        "raw_data.shape"
      ],
      "metadata": {
        "colab": {
          "base_uri": "https://localhost:8080/"
        },
        "id": "zreQWL6OV4r-",
        "outputId": "2b97d81b-afc3-4b07-b560-358c6fb39913"
      },
      "execution_count": 12,
      "outputs": [
        {
          "output_type": "execute_result",
          "data": {
            "text/plain": [
              "(20000, 122)"
            ]
          },
          "metadata": {},
          "execution_count": 12
        }
      ]
    },
    {
      "cell_type": "code",
      "source": [
        "col_num=0\n",
        "TotalObjects = raw_data.shape[0]\n",
        "print (\"Column\\t\\t\\t\\t\\t Null Values%\")\n",
        "for x in raw_data:\n",
        "  nullCount = raw_data[x].isnull().sum();\n",
        "  nullPercent = nullCount*100 / (TotalObjects)\n",
        "  if nullCount > 0 and nullPercent > 20 :\n",
        "    col_num=col_num+1\n",
        "    raw_data.drop(x, axis=1,inplace=True)\n",
        "    print(str(x)+\"\\t\\t\\t\\t\\t\"+str(nullPercent))\n",
        "print (\"A total of \"+str(col_num)+\" deleted !\")"
      ],
      "metadata": {
        "colab": {
          "base_uri": "https://localhost:8080/"
        },
        "id": "pa1srqL2XFeR",
        "outputId": "a10b85d4-178e-444e-84a5-3e12ac11f59b"
      },
      "execution_count": 13,
      "outputs": [
        {
          "output_type": "stream",
          "name": "stdout",
          "text": [
            "Column\t\t\t\t\t Null Values%\n",
            "id\t\t\t\t\t100.0\n",
            "member_id\t\t\t\t\t100.0\n",
            "url\t\t\t\t\t100.0\n",
            "desc\t\t\t\t\t100.0\n",
            "mths_since_last_delinq\t\t\t\t\t56.375\n",
            "mths_since_last_record\t\t\t\t\t88.41\n",
            "mths_since_last_major_derog\t\t\t\t\t77.47\n",
            "annual_inc_joint\t\t\t\t\t87.845\n",
            "dti_joint\t\t\t\t\t87.845\n",
            "verification_status_joint\t\t\t\t\t89.17\n",
            "mths_since_recent_bc_dlq\t\t\t\t\t80.36\n",
            "mths_since_recent_revol_delinq\t\t\t\t\t71.3\n",
            "revol_bal_joint\t\t\t\t\t87.845\n",
            "sec_app_earliest_cr_line\t\t\t\t\t87.845\n",
            "sec_app_inq_last_6mths\t\t\t\t\t87.845\n",
            "sec_app_mort_acc\t\t\t\t\t87.845\n",
            "sec_app_open_acc\t\t\t\t\t87.845\n",
            "sec_app_revol_util\t\t\t\t\t88.0\n",
            "sec_app_open_act_il\t\t\t\t\t87.845\n",
            "sec_app_num_rev_accts\t\t\t\t\t87.845\n",
            "sec_app_chargeoff_within_12_mths\t\t\t\t\t87.845\n",
            "sec_app_collections_12_mths_ex_med\t\t\t\t\t87.845\n",
            "sec_app_mths_since_last_major_derog\t\t\t\t\t96.295\n",
            "hardship_type\t\t\t\t\t100.0\n",
            "hardship_reason\t\t\t\t\t100.0\n",
            "hardship_status\t\t\t\t\t100.0\n",
            "deferral_term\t\t\t\t\t100.0\n",
            "hardship_amount\t\t\t\t\t100.0\n",
            "hardship_start_date\t\t\t\t\t100.0\n",
            "hardship_end_date\t\t\t\t\t100.0\n",
            "payment_plan_start_date\t\t\t\t\t100.0\n",
            "hardship_length\t\t\t\t\t100.0\n",
            "hardship_dpd\t\t\t\t\t100.0\n",
            "hardship_loan_status\t\t\t\t\t100.0\n",
            "orig_projected_additional_accrued_interest\t\t\t\t\t100.0\n",
            "hardship_payoff_balance_amount\t\t\t\t\t100.0\n",
            "hardship_last_payment_amount\t\t\t\t\t100.0\n",
            "debt_settlement_flag_date\t\t\t\t\t100.0\n",
            "settlement_status\t\t\t\t\t100.0\n",
            "settlement_date\t\t\t\t\t100.0\n",
            "settlement_amount\t\t\t\t\t100.0\n",
            "settlement_percentage\t\t\t\t\t100.0\n",
            "settlement_term\t\t\t\t\t100.0\n",
            "A total of 43 deleted !\n"
          ]
        }
      ]
    },
    {
      "cell_type": "code",
      "source": [
        "raw_data.head()"
      ],
      "metadata": {
        "colab": {
          "base_uri": "https://localhost:8080/",
          "height": 342
        },
        "id": "_gU7E9jGZk74",
        "outputId": "4d0f50d7-82bf-4c65-da24-f8921e52019e"
      },
      "execution_count": 14,
      "outputs": [
        {
          "output_type": "execute_result",
          "data": {
            "text/plain": [
              "   loan_amnt  funded_amnt        term  int_rate  installment grade  \\\n",
              "0       2500         2500   36 months     13.56        84.92     C   \n",
              "1      30000        30000   60 months     18.94       777.23     D   \n",
              "2       5000         5000   36 months     17.97       180.69     D   \n",
              "3       4000         4000   36 months     18.94       146.51     D   \n",
              "4      30000        30000   60 months     16.14       731.78     C   \n",
              "\n",
              "        emp_title emp_length home_ownership  annual_inc  ... percent_bc_gt_75  \\\n",
              "0            Chef  10+ years           RENT     55000.0  ...              0.0   \n",
              "1     Postmaster   10+ years       MORTGAGE     90000.0  ...              0.0   \n",
              "2  Administrative    6 years       MORTGAGE     59280.0  ...              0.0   \n",
              "3   IT Supervisor  10+ years       MORTGAGE     92000.0  ...            100.0   \n",
              "4        Mechanic  10+ years       MORTGAGE     57250.0  ...              0.0   \n",
              "\n",
              "  pub_rec_bankruptcies tax_liens tot_hi_cred_lim total_bal_ex_mort  \\\n",
              "0                    1         0           60124             16901   \n",
              "1                    1         0          372872             99468   \n",
              "2                    0         0          136927             11749   \n",
              "3                    0         0          385183             36151   \n",
              "4                    0         0          157548             29674   \n",
              "\n",
              "   total_bc_limit  total_il_high_credit_limit hardship_flag  \\\n",
              "0           36500                       18124             N   \n",
              "1           15000                       94072             N   \n",
              "2           13800                       10000             N   \n",
              "3            5000                       44984             N   \n",
              "4            9300                       32332             N   \n",
              "\n",
              "   disbursement_method  debt_settlement_flag  \n",
              "0                 Cash                     N  \n",
              "1                 Cash                     N  \n",
              "2                 Cash                     N  \n",
              "3                 Cash                     N  \n",
              "4                 Cash                     N  \n",
              "\n",
              "[5 rows x 79 columns]"
            ],
            "text/html": [
              "\n",
              "  <div id=\"df-00804172-093f-4712-9c05-82486fafb3db\" class=\"colab-df-container\">\n",
              "    <div>\n",
              "<style scoped>\n",
              "    .dataframe tbody tr th:only-of-type {\n",
              "        vertical-align: middle;\n",
              "    }\n",
              "\n",
              "    .dataframe tbody tr th {\n",
              "        vertical-align: top;\n",
              "    }\n",
              "\n",
              "    .dataframe thead th {\n",
              "        text-align: right;\n",
              "    }\n",
              "</style>\n",
              "<table border=\"1\" class=\"dataframe\">\n",
              "  <thead>\n",
              "    <tr style=\"text-align: right;\">\n",
              "      <th></th>\n",
              "      <th>loan_amnt</th>\n",
              "      <th>funded_amnt</th>\n",
              "      <th>term</th>\n",
              "      <th>int_rate</th>\n",
              "      <th>installment</th>\n",
              "      <th>grade</th>\n",
              "      <th>emp_title</th>\n",
              "      <th>emp_length</th>\n",
              "      <th>home_ownership</th>\n",
              "      <th>annual_inc</th>\n",
              "      <th>...</th>\n",
              "      <th>percent_bc_gt_75</th>\n",
              "      <th>pub_rec_bankruptcies</th>\n",
              "      <th>tax_liens</th>\n",
              "      <th>tot_hi_cred_lim</th>\n",
              "      <th>total_bal_ex_mort</th>\n",
              "      <th>total_bc_limit</th>\n",
              "      <th>total_il_high_credit_limit</th>\n",
              "      <th>hardship_flag</th>\n",
              "      <th>disbursement_method</th>\n",
              "      <th>debt_settlement_flag</th>\n",
              "    </tr>\n",
              "  </thead>\n",
              "  <tbody>\n",
              "    <tr>\n",
              "      <th>0</th>\n",
              "      <td>2500</td>\n",
              "      <td>2500</td>\n",
              "      <td>36 months</td>\n",
              "      <td>13.56</td>\n",
              "      <td>84.92</td>\n",
              "      <td>C</td>\n",
              "      <td>Chef</td>\n",
              "      <td>10+ years</td>\n",
              "      <td>RENT</td>\n",
              "      <td>55000.0</td>\n",
              "      <td>...</td>\n",
              "      <td>0.0</td>\n",
              "      <td>1</td>\n",
              "      <td>0</td>\n",
              "      <td>60124</td>\n",
              "      <td>16901</td>\n",
              "      <td>36500</td>\n",
              "      <td>18124</td>\n",
              "      <td>N</td>\n",
              "      <td>Cash</td>\n",
              "      <td>N</td>\n",
              "    </tr>\n",
              "    <tr>\n",
              "      <th>1</th>\n",
              "      <td>30000</td>\n",
              "      <td>30000</td>\n",
              "      <td>60 months</td>\n",
              "      <td>18.94</td>\n",
              "      <td>777.23</td>\n",
              "      <td>D</td>\n",
              "      <td>Postmaster</td>\n",
              "      <td>10+ years</td>\n",
              "      <td>MORTGAGE</td>\n",
              "      <td>90000.0</td>\n",
              "      <td>...</td>\n",
              "      <td>0.0</td>\n",
              "      <td>1</td>\n",
              "      <td>0</td>\n",
              "      <td>372872</td>\n",
              "      <td>99468</td>\n",
              "      <td>15000</td>\n",
              "      <td>94072</td>\n",
              "      <td>N</td>\n",
              "      <td>Cash</td>\n",
              "      <td>N</td>\n",
              "    </tr>\n",
              "    <tr>\n",
              "      <th>2</th>\n",
              "      <td>5000</td>\n",
              "      <td>5000</td>\n",
              "      <td>36 months</td>\n",
              "      <td>17.97</td>\n",
              "      <td>180.69</td>\n",
              "      <td>D</td>\n",
              "      <td>Administrative</td>\n",
              "      <td>6 years</td>\n",
              "      <td>MORTGAGE</td>\n",
              "      <td>59280.0</td>\n",
              "      <td>...</td>\n",
              "      <td>0.0</td>\n",
              "      <td>0</td>\n",
              "      <td>0</td>\n",
              "      <td>136927</td>\n",
              "      <td>11749</td>\n",
              "      <td>13800</td>\n",
              "      <td>10000</td>\n",
              "      <td>N</td>\n",
              "      <td>Cash</td>\n",
              "      <td>N</td>\n",
              "    </tr>\n",
              "    <tr>\n",
              "      <th>3</th>\n",
              "      <td>4000</td>\n",
              "      <td>4000</td>\n",
              "      <td>36 months</td>\n",
              "      <td>18.94</td>\n",
              "      <td>146.51</td>\n",
              "      <td>D</td>\n",
              "      <td>IT Supervisor</td>\n",
              "      <td>10+ years</td>\n",
              "      <td>MORTGAGE</td>\n",
              "      <td>92000.0</td>\n",
              "      <td>...</td>\n",
              "      <td>100.0</td>\n",
              "      <td>0</td>\n",
              "      <td>0</td>\n",
              "      <td>385183</td>\n",
              "      <td>36151</td>\n",
              "      <td>5000</td>\n",
              "      <td>44984</td>\n",
              "      <td>N</td>\n",
              "      <td>Cash</td>\n",
              "      <td>N</td>\n",
              "    </tr>\n",
              "    <tr>\n",
              "      <th>4</th>\n",
              "      <td>30000</td>\n",
              "      <td>30000</td>\n",
              "      <td>60 months</td>\n",
              "      <td>16.14</td>\n",
              "      <td>731.78</td>\n",
              "      <td>C</td>\n",
              "      <td>Mechanic</td>\n",
              "      <td>10+ years</td>\n",
              "      <td>MORTGAGE</td>\n",
              "      <td>57250.0</td>\n",
              "      <td>...</td>\n",
              "      <td>0.0</td>\n",
              "      <td>0</td>\n",
              "      <td>0</td>\n",
              "      <td>157548</td>\n",
              "      <td>29674</td>\n",
              "      <td>9300</td>\n",
              "      <td>32332</td>\n",
              "      <td>N</td>\n",
              "      <td>Cash</td>\n",
              "      <td>N</td>\n",
              "    </tr>\n",
              "  </tbody>\n",
              "</table>\n",
              "<p>5 rows × 79 columns</p>\n",
              "</div>\n",
              "    <div class=\"colab-df-buttons\">\n",
              "\n",
              "  <div class=\"colab-df-container\">\n",
              "    <button class=\"colab-df-convert\" onclick=\"convertToInteractive('df-00804172-093f-4712-9c05-82486fafb3db')\"\n",
              "            title=\"Convert this dataframe to an interactive table.\"\n",
              "            style=\"display:none;\">\n",
              "\n",
              "  <svg xmlns=\"http://www.w3.org/2000/svg\" height=\"24px\" viewBox=\"0 -960 960 960\">\n",
              "    <path d=\"M120-120v-720h720v720H120Zm60-500h600v-160H180v160Zm220 220h160v-160H400v160Zm0 220h160v-160H400v160ZM180-400h160v-160H180v160Zm440 0h160v-160H620v160ZM180-180h160v-160H180v160Zm440 0h160v-160H620v160Z\"/>\n",
              "  </svg>\n",
              "    </button>\n",
              "\n",
              "  <style>\n",
              "    .colab-df-container {\n",
              "      display:flex;\n",
              "      gap: 12px;\n",
              "    }\n",
              "\n",
              "    .colab-df-convert {\n",
              "      background-color: #E8F0FE;\n",
              "      border: none;\n",
              "      border-radius: 50%;\n",
              "      cursor: pointer;\n",
              "      display: none;\n",
              "      fill: #1967D2;\n",
              "      height: 32px;\n",
              "      padding: 0 0 0 0;\n",
              "      width: 32px;\n",
              "    }\n",
              "\n",
              "    .colab-df-convert:hover {\n",
              "      background-color: #E2EBFA;\n",
              "      box-shadow: 0px 1px 2px rgba(60, 64, 67, 0.3), 0px 1px 3px 1px rgba(60, 64, 67, 0.15);\n",
              "      fill: #174EA6;\n",
              "    }\n",
              "\n",
              "    .colab-df-buttons div {\n",
              "      margin-bottom: 4px;\n",
              "    }\n",
              "\n",
              "    [theme=dark] .colab-df-convert {\n",
              "      background-color: #3B4455;\n",
              "      fill: #D2E3FC;\n",
              "    }\n",
              "\n",
              "    [theme=dark] .colab-df-convert:hover {\n",
              "      background-color: #434B5C;\n",
              "      box-shadow: 0px 1px 3px 1px rgba(0, 0, 0, 0.15);\n",
              "      filter: drop-shadow(0px 1px 2px rgba(0, 0, 0, 0.3));\n",
              "      fill: #FFFFFF;\n",
              "    }\n",
              "  </style>\n",
              "\n",
              "    <script>\n",
              "      const buttonEl =\n",
              "        document.querySelector('#df-00804172-093f-4712-9c05-82486fafb3db button.colab-df-convert');\n",
              "      buttonEl.style.display =\n",
              "        google.colab.kernel.accessAllowed ? 'block' : 'none';\n",
              "\n",
              "      async function convertToInteractive(key) {\n",
              "        const element = document.querySelector('#df-00804172-093f-4712-9c05-82486fafb3db');\n",
              "        const dataTable =\n",
              "          await google.colab.kernel.invokeFunction('convertToInteractive',\n",
              "                                                    [key], {});\n",
              "        if (!dataTable) return;\n",
              "\n",
              "        const docLinkHtml = 'Like what you see? Visit the ' +\n",
              "          '<a target=\"_blank\" href=https://colab.research.google.com/notebooks/data_table.ipynb>data table notebook</a>'\n",
              "          + ' to learn more about interactive tables.';\n",
              "        element.innerHTML = '';\n",
              "        dataTable['output_type'] = 'display_data';\n",
              "        await google.colab.output.renderOutput(dataTable, element);\n",
              "        const docLink = document.createElement('div');\n",
              "        docLink.innerHTML = docLinkHtml;\n",
              "        element.appendChild(docLink);\n",
              "      }\n",
              "    </script>\n",
              "  </div>\n",
              "\n",
              "\n",
              "<div id=\"df-87882ec0-cdc0-40cb-a545-511961ce2e32\">\n",
              "  <button class=\"colab-df-quickchart\" onclick=\"quickchart('df-87882ec0-cdc0-40cb-a545-511961ce2e32')\"\n",
              "            title=\"Suggest charts\"\n",
              "            style=\"display:none;\">\n",
              "\n",
              "<svg xmlns=\"http://www.w3.org/2000/svg\" height=\"24px\"viewBox=\"0 0 24 24\"\n",
              "     width=\"24px\">\n",
              "    <g>\n",
              "        <path d=\"M19 3H5c-1.1 0-2 .9-2 2v14c0 1.1.9 2 2 2h14c1.1 0 2-.9 2-2V5c0-1.1-.9-2-2-2zM9 17H7v-7h2v7zm4 0h-2V7h2v10zm4 0h-2v-4h2v4z\"/>\n",
              "    </g>\n",
              "</svg>\n",
              "  </button>\n",
              "\n",
              "<style>\n",
              "  .colab-df-quickchart {\n",
              "      --bg-color: #E8F0FE;\n",
              "      --fill-color: #1967D2;\n",
              "      --hover-bg-color: #E2EBFA;\n",
              "      --hover-fill-color: #174EA6;\n",
              "      --disabled-fill-color: #AAA;\n",
              "      --disabled-bg-color: #DDD;\n",
              "  }\n",
              "\n",
              "  [theme=dark] .colab-df-quickchart {\n",
              "      --bg-color: #3B4455;\n",
              "      --fill-color: #D2E3FC;\n",
              "      --hover-bg-color: #434B5C;\n",
              "      --hover-fill-color: #FFFFFF;\n",
              "      --disabled-bg-color: #3B4455;\n",
              "      --disabled-fill-color: #666;\n",
              "  }\n",
              "\n",
              "  .colab-df-quickchart {\n",
              "    background-color: var(--bg-color);\n",
              "    border: none;\n",
              "    border-radius: 50%;\n",
              "    cursor: pointer;\n",
              "    display: none;\n",
              "    fill: var(--fill-color);\n",
              "    height: 32px;\n",
              "    padding: 0;\n",
              "    width: 32px;\n",
              "  }\n",
              "\n",
              "  .colab-df-quickchart:hover {\n",
              "    background-color: var(--hover-bg-color);\n",
              "    box-shadow: 0 1px 2px rgba(60, 64, 67, 0.3), 0 1px 3px 1px rgba(60, 64, 67, 0.15);\n",
              "    fill: var(--button-hover-fill-color);\n",
              "  }\n",
              "\n",
              "  .colab-df-quickchart-complete:disabled,\n",
              "  .colab-df-quickchart-complete:disabled:hover {\n",
              "    background-color: var(--disabled-bg-color);\n",
              "    fill: var(--disabled-fill-color);\n",
              "    box-shadow: none;\n",
              "  }\n",
              "\n",
              "  .colab-df-spinner {\n",
              "    border: 2px solid var(--fill-color);\n",
              "    border-color: transparent;\n",
              "    border-bottom-color: var(--fill-color);\n",
              "    animation:\n",
              "      spin 1s steps(1) infinite;\n",
              "  }\n",
              "\n",
              "  @keyframes spin {\n",
              "    0% {\n",
              "      border-color: transparent;\n",
              "      border-bottom-color: var(--fill-color);\n",
              "      border-left-color: var(--fill-color);\n",
              "    }\n",
              "    20% {\n",
              "      border-color: transparent;\n",
              "      border-left-color: var(--fill-color);\n",
              "      border-top-color: var(--fill-color);\n",
              "    }\n",
              "    30% {\n",
              "      border-color: transparent;\n",
              "      border-left-color: var(--fill-color);\n",
              "      border-top-color: var(--fill-color);\n",
              "      border-right-color: var(--fill-color);\n",
              "    }\n",
              "    40% {\n",
              "      border-color: transparent;\n",
              "      border-right-color: var(--fill-color);\n",
              "      border-top-color: var(--fill-color);\n",
              "    }\n",
              "    60% {\n",
              "      border-color: transparent;\n",
              "      border-right-color: var(--fill-color);\n",
              "    }\n",
              "    80% {\n",
              "      border-color: transparent;\n",
              "      border-right-color: var(--fill-color);\n",
              "      border-bottom-color: var(--fill-color);\n",
              "    }\n",
              "    90% {\n",
              "      border-color: transparent;\n",
              "      border-bottom-color: var(--fill-color);\n",
              "    }\n",
              "  }\n",
              "</style>\n",
              "\n",
              "  <script>\n",
              "    async function quickchart(key) {\n",
              "      const quickchartButtonEl =\n",
              "        document.querySelector('#' + key + ' button');\n",
              "      quickchartButtonEl.disabled = true;  // To prevent multiple clicks.\n",
              "      quickchartButtonEl.classList.add('colab-df-spinner');\n",
              "      try {\n",
              "        const charts = await google.colab.kernel.invokeFunction(\n",
              "            'suggestCharts', [key], {});\n",
              "      } catch (error) {\n",
              "        console.error('Error during call to suggestCharts:', error);\n",
              "      }\n",
              "      quickchartButtonEl.classList.remove('colab-df-spinner');\n",
              "      quickchartButtonEl.classList.add('colab-df-quickchart-complete');\n",
              "    }\n",
              "    (() => {\n",
              "      let quickchartButtonEl =\n",
              "        document.querySelector('#df-87882ec0-cdc0-40cb-a545-511961ce2e32 button');\n",
              "      quickchartButtonEl.style.display =\n",
              "        google.colab.kernel.accessAllowed ? 'block' : 'none';\n",
              "    })();\n",
              "  </script>\n",
              "</div>\n",
              "\n",
              "    </div>\n",
              "  </div>\n"
            ],
            "application/vnd.google.colaboratory.intrinsic+json": {
              "type": "dataframe",
              "variable_name": "raw_data"
            }
          },
          "metadata": {},
          "execution_count": 14
        }
      ]
    },
    {
      "cell_type": "code",
      "source": [
        "raw_data.shape"
      ],
      "metadata": {
        "colab": {
          "base_uri": "https://localhost:8080/"
        },
        "id": "zCDD1XLiZqUb",
        "outputId": "9674a19a-0d76-4765-a8c6-01dbc28169af"
      },
      "execution_count": 15,
      "outputs": [
        {
          "output_type": "execute_result",
          "data": {
            "text/plain": [
              "(20000, 79)"
            ]
          },
          "metadata": {},
          "execution_count": 15
        }
      ]
    },
    {
      "cell_type": "code",
      "source": [
        "raw_data['emp_title'].isnull().sum()"
      ],
      "metadata": {
        "colab": {
          "base_uri": "https://localhost:8080/"
        },
        "id": "7S7cOaoAZ-Fo",
        "outputId": "a4afc652-359b-416e-8ea3-46123eaf323d"
      },
      "execution_count": 16,
      "outputs": [
        {
          "output_type": "execute_result",
          "data": {
            "text/plain": [
              "3319"
            ]
          },
          "metadata": {},
          "execution_count": 16
        }
      ]
    },
    {
      "cell_type": "code",
      "source": [
        "raw_data['emp_title'].fillna('Unknown',inplace = True)"
      ],
      "metadata": {
        "id": "6TVEXDF1arWA"
      },
      "execution_count": 17,
      "outputs": []
    },
    {
      "cell_type": "code",
      "source": [
        "raw_data['emp_title'].isnull().sum()"
      ],
      "metadata": {
        "colab": {
          "base_uri": "https://localhost:8080/"
        },
        "id": "yCmTiME6au09",
        "outputId": "6e2703fa-de6a-474e-e1a3-c49c70a78938"
      },
      "execution_count": 18,
      "outputs": [
        {
          "output_type": "execute_result",
          "data": {
            "text/plain": [
              "0"
            ]
          },
          "metadata": {},
          "execution_count": 18
        }
      ]
    },
    {
      "cell_type": "code",
      "source": [
        "raw_data['dti'].isnull().sum()"
      ],
      "metadata": {
        "colab": {
          "base_uri": "https://localhost:8080/"
        },
        "id": "KPxDLLseayFG",
        "outputId": "c9d875f1-b289-454f-d7af-023a5aa22b79"
      },
      "execution_count": 19,
      "outputs": [
        {
          "output_type": "execute_result",
          "data": {
            "text/plain": [
              "43"
            ]
          },
          "metadata": {},
          "execution_count": 19
        }
      ]
    },
    {
      "cell_type": "code",
      "source": [
        "raw_data['dti'].fillna(0,inplace=True)"
      ],
      "metadata": {
        "id": "L858XgOwblqh"
      },
      "execution_count": 20,
      "outputs": []
    },
    {
      "cell_type": "code",
      "source": [
        "raw_data['dti'].isnull().sum()"
      ],
      "metadata": {
        "colab": {
          "base_uri": "https://localhost:8080/"
        },
        "id": "EUhcn6pRbq8X",
        "outputId": "7ee455b9-04e2-4141-a7f6-e5b2765ef73f"
      },
      "execution_count": 21,
      "outputs": [
        {
          "output_type": "execute_result",
          "data": {
            "text/plain": [
              "0"
            ]
          },
          "metadata": {},
          "execution_count": 21
        }
      ]
    },
    {
      "cell_type": "code",
      "source": [
        "raw_data['revol_util'].isnull().sum()"
      ],
      "metadata": {
        "colab": {
          "base_uri": "https://localhost:8080/"
        },
        "id": "YPCGsdtSbxrQ",
        "outputId": "c574d755-37e0-42e2-954f-2bb43ffb7bdf"
      },
      "execution_count": 22,
      "outputs": [
        {
          "output_type": "execute_result",
          "data": {
            "text/plain": [
              "21"
            ]
          },
          "metadata": {},
          "execution_count": 22
        }
      ]
    },
    {
      "cell_type": "code",
      "source": [
        "raw_data['revol_util'].fillna(raw_data['revol_util'].mean(),inplace = True)"
      ],
      "metadata": {
        "id": "nkJ9dBULb6MO"
      },
      "execution_count": 23,
      "outputs": []
    },
    {
      "cell_type": "code",
      "source": [
        "raw_data['revol_util'].isnull().sum()"
      ],
      "metadata": {
        "colab": {
          "base_uri": "https://localhost:8080/"
        },
        "id": "QzIN_jxbcANb",
        "outputId": "697386df-a660-4df0-a8b5-c3da524bd53e"
      },
      "execution_count": 24,
      "outputs": [
        {
          "output_type": "execute_result",
          "data": {
            "text/plain": [
              "0"
            ]
          },
          "metadata": {},
          "execution_count": 24
        }
      ]
    },
    {
      "cell_type": "code",
      "source": [
        "pd.unique(raw_data['emp_length'].values)"
      ],
      "metadata": {
        "colab": {
          "base_uri": "https://localhost:8080/"
        },
        "id": "x7r4QL7icw-S",
        "outputId": "99b0033e-3480-4886-a2d4-550c4da4aab5"
      },
      "execution_count": 25,
      "outputs": [
        {
          "output_type": "execute_result",
          "data": {
            "text/plain": [
              "array(['10+ years', '6 years', '4 years', '< 1 year', '2 years',\n",
              "       '9 years', nan, '5 years', '3 years', '7 years', '1 year',\n",
              "       '8 years'], dtype=object)"
            ]
          },
          "metadata": {},
          "execution_count": 25
        }
      ]
    },
    {
      "cell_type": "code",
      "source": [
        "raw_data['emp_length'].fillna(0,inplace=True)"
      ],
      "metadata": {
        "id": "EhyshNBqe2gz"
      },
      "execution_count": 26,
      "outputs": []
    },
    {
      "cell_type": "code",
      "source": [
        "def CalculateEmployeeLength(year):\n",
        "  if year == '< 1 year':\n",
        "    return 0.5\n",
        "  elif year == '10+ years':\n",
        "    return 10\n",
        "  else:\n",
        "    yr=str(year)\n",
        "    return yr.rstrip(' years')"
      ],
      "metadata": {
        "id": "Ee4PjQRufPfn"
      },
      "execution_count": 27,
      "outputs": []
    },
    {
      "cell_type": "code",
      "source": [
        "raw_data['emp_length']=raw_data['emp_length'].apply(CalculateEmployeeLength)"
      ],
      "metadata": {
        "id": "-lS0Mbknfk4y"
      },
      "execution_count": 28,
      "outputs": []
    },
    {
      "cell_type": "code",
      "source": [
        "pd.unique(raw_data['emp_length'].values)"
      ],
      "metadata": {
        "colab": {
          "base_uri": "https://localhost:8080/"
        },
        "id": "H-u-3rSYfwPC",
        "outputId": "5f2c4b97-a715-4391-8b16-9e68615f6301"
      },
      "execution_count": 29,
      "outputs": [
        {
          "output_type": "execute_result",
          "data": {
            "text/plain": [
              "array([10, '6', '4', 0.5, '2', '9', '0', '5', '3', '7', '1', '8'],\n",
              "      dtype=object)"
            ]
          },
          "metadata": {},
          "execution_count": 29
        }
      ]
    },
    {
      "cell_type": "code",
      "source": [
        "pd.unique(raw_data['loan_amnt'].values)"
      ],
      "metadata": {
        "colab": {
          "base_uri": "https://localhost:8080/"
        },
        "id": "0xbDzlhHfzE4",
        "outputId": "485a3cab-a5bc-4635-b34c-8d4baf1daa60"
      },
      "execution_count": 30,
      "outputs": [
        {
          "output_type": "execute_result",
          "data": {
            "text/plain": [
              "array([ 2500, 30000,  5000,  4000,  5550,  2000,  6000,  5500, 28000,\n",
              "       11200,  6500, 22000,  3500,  7000, 25000, 16000, 13000, 10000,\n",
              "        9600, 15000, 23000,  8000, 32075, 12000,  3300, 20000,  2200,\n",
              "        1250, 10400,  7500,  9000, 40000, 14400, 22400, 26000,  1000,\n",
              "       29450, 34625, 31450, 15500, 36000,  3000, 35000, 26500, 10250,\n",
              "       27000, 24000, 21000,  3775,  5600,  8500, 22650, 11000, 18000,\n",
              "        5525,  2525, 32000, 18500,  1500,  8800, 10500,  8250,  3600,\n",
              "       10450, 17100, 10475, 15400, 16800,  4500, 14000, 29625,  7075,\n",
              "        5400, 20400,  8425, 16500, 34575,  1200,  4800,  7200, 27975,\n",
              "        6600, 20300,  5100,  6025, 21600, 17425,  1300, 32500,  8400,\n",
              "       36950, 31200, 30800, 11500, 31000,  1600, 14425, 36425, 12500,\n",
              "       15600, 19200,  9375,  2700, 15450, 20500, 19000, 34800, 20075,\n",
              "       19375, 22500, 38000,  3125, 11025, 18400, 22950,  7150, 27200,\n",
              "       27500,  7800, 14225,  3200,  9500,  6200, 17000, 12950, 30500,\n",
              "        9900, 39500, 24900, 10300,  1700, 29000,  5800,  1950,  4600,\n",
              "       13500, 37000, 38500,  7025, 27950,  5300, 33000, 12400,  7650,\n",
              "       11700, 19700,  3375, 32625, 17500, 10800, 38800,  2800, 29050,\n",
              "       16850, 12600, 31025, 12700,  4400,  2400,  7400, 24825, 16375,\n",
              "        9350,  7300,  1900, 16200,  4300, 22900, 34000,  2825, 16875,\n",
              "       17600, 25425, 12325, 21800, 11350,  4200,  9925,  3450, 14500,\n",
              "       10200, 34450, 34750,  2100, 15200, 28500, 11600,  6250, 35375,\n",
              "       23400, 21250,  6400, 14700, 37900, 31500,  4100,  1400, 26600,\n",
              "        5575, 33600, 21775,  3475, 11575, 25600,  3025, 29350,  9400,\n",
              "       11875,  6050, 30375, 20975, 32475, 19800,  8750, 22600, 11375,\n",
              "       10700,  6800, 12975, 31975,  6300,  1800, 34400, 19575,  4900,\n",
              "       19500, 29750, 33500, 37200, 29575, 34925, 35800, 31750, 13575,\n",
              "        8825,  7475, 30175,  8200, 28800, 25850, 36600,  2300, 13400,\n",
              "        9200,  6925, 29900, 21500, 23500, 35500, 33300, 32325,  2750,\n",
              "       18600, 14450, 12800, 25300,  5850, 23100, 27600, 23800,  9125,\n",
              "       17400,  9100, 33625, 15700, 11250, 12475, 30900, 11400,  3800,\n",
              "        5200, 16700, 39000, 20800, 32275, 13800, 24500, 25500,  4625,\n",
              "       17450,  9800, 25550,  6550,  4150, 35525, 33350, 13875, 38250,\n",
              "       18200, 34050, 19550, 20950,  4325, 13225, 34425, 18975, 34900,\n",
              "       37800,  6625, 10125, 35825, 28475, 21575,  3900,  4750, 20125,\n",
              "        9650, 25750, 22375, 25575, 30875, 11150,  4700, 22550, 13675,\n",
              "       18900, 20925,  7250, 22025, 31150, 12550,  8525, 28600, 13700,\n",
              "       11750, 18625, 10600, 10725, 15250, 10750, 37825, 12900,  2850,\n",
              "        7950, 26850,  9050, 17700,  3400,  9025, 26400, 30600, 23325,\n",
              "       36050, 36500, 16075, 25825,  9700,  3525, 21200, 20175, 14350,\n",
              "       23200, 30650,  9300,  5475, 24800, 29300, 39200,  2075, 23050,\n",
              "       24400, 24350, 19750,  5750, 15900, 35975, 20200,  2650, 37775,\n",
              "       26825, 13200, 22325, 33925, 24025, 14950, 26325, 12750,  4950,\n",
              "       20725, 13550, 34100,  5250, 15525,  2900, 26300,  6775, 38775,\n",
              "       16925, 38925, 10850, 19075, 33700,  9750,  6475, 37725,  4225,\n",
              "       13600, 20375,  8600, 36150,  7325, 26975, 34500,  8450, 32800,\n",
              "        6100, 30850,  5275, 17200, 35425, 36575, 10325, 27400, 17250,\n",
              "       36825, 22100,  7100, 13825, 22800, 37500, 11125, 38475,  8150,\n",
              "       12050, 17550, 17800, 18925,  7825,  7700, 25150, 12300, 13375,\n",
              "        8900, 17575, 29375, 10100,  3750, 16675, 28700, 35325, 30525,\n",
              "        9575,  5650,  3100, 26800, 36250, 18800, 29650,  4050, 14200,\n",
              "       24975, 13525, 30950, 12200, 28425, 34975, 19525, 32100, 32550,\n",
              "        8700, 13300, 25200,  7600,  4650, 26250,  5875, 12725, 11050,\n",
              "       27575, 20325,  5925, 15950, 38750, 29250, 20625,  3700,  7375,\n",
              "        3625, 26725,  7925,  5125, 12250, 10650, 27275,  4675,  1925,\n",
              "        9775, 18725,  4250,  1850, 16400,  6825,  7750, 29675, 22250,\n",
              "       24725, 18050, 35050, 26375, 27800, 27450, 29875,  4575, 32400,\n",
              "       21650,  3150, 12025,  5350, 25225, 15350, 27350, 11950,  3075,\n",
              "        8075, 29600, 30925, 33825,  6700, 10550, 29025,  1650, 22300,\n",
              "       16550,  6275, 34525, 13325, 22775,  8300,  4425, 34075,  8925,\n",
              "        8375, 32700, 19150,  6900, 32200,  8125,  5700, 31100, 10575,\n",
              "        3350,  8175, 14850,  1550, 11300, 14900, 15850, 20700, 22425,\n",
              "       16325,  1100, 38875,  2600,  4550, 14775, 24675, 12625,  5950,\n",
              "       12150, 16225, 34850, 29775, 23425, 35225,  1375, 22200, 13275,\n",
              "       30700, 35300,  5150, 16025, 15075,  1675, 35200, 18700,  4850,\n",
              "       12825, 21275, 16600,  3275, 10175, 20875, 34675, 17950,  6650,\n",
              "       17375, 22350, 14100, 36200, 11075, 34225,  6675, 23900, 27650,\n",
              "       21175, 36850,  7525, 26050, 36400, 31600,  5050, 20575, 18675,\n",
              "       19025, 29275, 19400, 15150,  6750, 11650, 22150, 24875, 16725,\n",
              "        6450, 33400,  5375, 13125,  5325,  9850,  4450, 17075, 31400,\n",
              "       29800,  3850, 36550, 19600,  7875,  5900, 31300,  1325, 39350,\n",
              "        6425,  8875, 15825, 11725, 21375, 14825, 17275, 21550, 29400,\n",
              "       26350,  7775, 30825, 10075,  7175, 13450, 28725, 22575, 27300,\n",
              "       28300, 23350, 15100, 35250, 13350, 31550, 17125, 18575, 12100,\n",
              "        8100,  2250, 37125,  8725, 11900,  6350, 30450, 12875, 20250,\n",
              "        3325, 36750,  2475,  4775, 20100, 21025, 15475,  6850, 14800,\n",
              "       22825, 24850, 22625, 20425, 32725, 15750,  4175, 24550, 10425,\n",
              "        8575, 24950,  6725,  4350, 16650, 24575, 34550, 38400, 23125,\n",
              "        7900, 22725,  7625, 14600, 17225,  8650, 30475, 17350, 19950,\n",
              "       21125, 34725, 29950, 32825, 33525,  3675, 13250, 11525, 11800,\n",
              "       26150, 21850, 30775, 16525, 36350, 35600,  6325, 39525, 34175,\n",
              "       20275, 19275, 15025,  4725, 16775, 11475, 19925, 23275,  9325,\n",
              "       33550, 26925, 26950, 39700,  2675, 27100, 13850, 21750, 37550,\n",
              "       24325,  9950, 20850, 22175, 26650, 17900, 10925, 16150, 22225,\n",
              "       31475, 33875,  9150,  3950, 14300, 22525, 35275, 12225, 29500,\n",
              "       28575, 12425,  3050, 10900,  8225, 32575, 32450, 29725, 39075,\n",
              "       28150, 24200,  1450, 18750, 36375, 29200,  4875, 21525, 28825,\n",
              "       12525,  9875, 26200, 21625, 12350, 15625, 32775,  6125, 28350,\n",
              "        5825, 38200, 11850, 19300, 30075, 18475, 34350,  7225, 21300,\n",
              "        7425, 14575, 24775, 23650, 39175, 27750, 17975, 19100, 18175,\n",
              "       30100, 37700, 22125, 23175, 30725, 31250, 33425, 11550, 29700,\n",
              "       26775,  9275, 25775, 26875, 19050, 30325, 34200, 10275, 33175,\n",
              "       14325, 21475, 20675, 20350, 36900,  1075, 33100, 24625,  2150,\n",
              "       24425, 19975, 15575, 21075, 11775, 13175, 28950,  2975, 33075,\n",
              "       20025, 25450])"
            ]
          },
          "metadata": {},
          "execution_count": 30
        }
      ]
    },
    {
      "cell_type": "code",
      "source": [
        "def CalculateLoanRanges(value):\n",
        "  if value <= 5000:\n",
        "    return '5K and Below'\n",
        "  if value > 5000 and value <= 10000:\n",
        "    return '5K-10K'\n",
        "  if value > 10000 and value <= 15000:\n",
        "    return '10K-15K'\n",
        "  if value > 15000 and value <= 20000:\n",
        "    return '15K-20K'\n",
        "  if value > 20000 and value <= 25000:\n",
        "    return '20K-25K'\n",
        "  if value > 25000 and value <= 30000:\n",
        "    return '25K-30K'\n",
        "  if value > 30000 :\n",
        "    return '30K and Above'\n",
        "  return 'Other'"
      ],
      "metadata": {
        "id": "BM9wkVhMghHQ"
      },
      "execution_count": 32,
      "outputs": []
    },
    {
      "cell_type": "code",
      "source": [
        "pd.unique(raw_data['loan_amnt'].values)"
      ],
      "metadata": {
        "colab": {
          "base_uri": "https://localhost:8080/"
        },
        "id": "8hNI2Q5ChUNm",
        "outputId": "a279f2bd-7592-47c5-8300-1187f8959d7c"
      },
      "execution_count": 33,
      "outputs": [
        {
          "output_type": "execute_result",
          "data": {
            "text/plain": [
              "array([ 2500, 30000,  5000,  4000,  5550,  2000,  6000,  5500, 28000,\n",
              "       11200,  6500, 22000,  3500,  7000, 25000, 16000, 13000, 10000,\n",
              "        9600, 15000, 23000,  8000, 32075, 12000,  3300, 20000,  2200,\n",
              "        1250, 10400,  7500,  9000, 40000, 14400, 22400, 26000,  1000,\n",
              "       29450, 34625, 31450, 15500, 36000,  3000, 35000, 26500, 10250,\n",
              "       27000, 24000, 21000,  3775,  5600,  8500, 22650, 11000, 18000,\n",
              "        5525,  2525, 32000, 18500,  1500,  8800, 10500,  8250,  3600,\n",
              "       10450, 17100, 10475, 15400, 16800,  4500, 14000, 29625,  7075,\n",
              "        5400, 20400,  8425, 16500, 34575,  1200,  4800,  7200, 27975,\n",
              "        6600, 20300,  5100,  6025, 21600, 17425,  1300, 32500,  8400,\n",
              "       36950, 31200, 30800, 11500, 31000,  1600, 14425, 36425, 12500,\n",
              "       15600, 19200,  9375,  2700, 15450, 20500, 19000, 34800, 20075,\n",
              "       19375, 22500, 38000,  3125, 11025, 18400, 22950,  7150, 27200,\n",
              "       27500,  7800, 14225,  3200,  9500,  6200, 17000, 12950, 30500,\n",
              "        9900, 39500, 24900, 10300,  1700, 29000,  5800,  1950,  4600,\n",
              "       13500, 37000, 38500,  7025, 27950,  5300, 33000, 12400,  7650,\n",
              "       11700, 19700,  3375, 32625, 17500, 10800, 38800,  2800, 29050,\n",
              "       16850, 12600, 31025, 12700,  4400,  2400,  7400, 24825, 16375,\n",
              "        9350,  7300,  1900, 16200,  4300, 22900, 34000,  2825, 16875,\n",
              "       17600, 25425, 12325, 21800, 11350,  4200,  9925,  3450, 14500,\n",
              "       10200, 34450, 34750,  2100, 15200, 28500, 11600,  6250, 35375,\n",
              "       23400, 21250,  6400, 14700, 37900, 31500,  4100,  1400, 26600,\n",
              "        5575, 33600, 21775,  3475, 11575, 25600,  3025, 29350,  9400,\n",
              "       11875,  6050, 30375, 20975, 32475, 19800,  8750, 22600, 11375,\n",
              "       10700,  6800, 12975, 31975,  6300,  1800, 34400, 19575,  4900,\n",
              "       19500, 29750, 33500, 37200, 29575, 34925, 35800, 31750, 13575,\n",
              "        8825,  7475, 30175,  8200, 28800, 25850, 36600,  2300, 13400,\n",
              "        9200,  6925, 29900, 21500, 23500, 35500, 33300, 32325,  2750,\n",
              "       18600, 14450, 12800, 25300,  5850, 23100, 27600, 23800,  9125,\n",
              "       17400,  9100, 33625, 15700, 11250, 12475, 30900, 11400,  3800,\n",
              "        5200, 16700, 39000, 20800, 32275, 13800, 24500, 25500,  4625,\n",
              "       17450,  9800, 25550,  6550,  4150, 35525, 33350, 13875, 38250,\n",
              "       18200, 34050, 19550, 20950,  4325, 13225, 34425, 18975, 34900,\n",
              "       37800,  6625, 10125, 35825, 28475, 21575,  3900,  4750, 20125,\n",
              "        9650, 25750, 22375, 25575, 30875, 11150,  4700, 22550, 13675,\n",
              "       18900, 20925,  7250, 22025, 31150, 12550,  8525, 28600, 13700,\n",
              "       11750, 18625, 10600, 10725, 15250, 10750, 37825, 12900,  2850,\n",
              "        7950, 26850,  9050, 17700,  3400,  9025, 26400, 30600, 23325,\n",
              "       36050, 36500, 16075, 25825,  9700,  3525, 21200, 20175, 14350,\n",
              "       23200, 30650,  9300,  5475, 24800, 29300, 39200,  2075, 23050,\n",
              "       24400, 24350, 19750,  5750, 15900, 35975, 20200,  2650, 37775,\n",
              "       26825, 13200, 22325, 33925, 24025, 14950, 26325, 12750,  4950,\n",
              "       20725, 13550, 34100,  5250, 15525,  2900, 26300,  6775, 38775,\n",
              "       16925, 38925, 10850, 19075, 33700,  9750,  6475, 37725,  4225,\n",
              "       13600, 20375,  8600, 36150,  7325, 26975, 34500,  8450, 32800,\n",
              "        6100, 30850,  5275, 17200, 35425, 36575, 10325, 27400, 17250,\n",
              "       36825, 22100,  7100, 13825, 22800, 37500, 11125, 38475,  8150,\n",
              "       12050, 17550, 17800, 18925,  7825,  7700, 25150, 12300, 13375,\n",
              "        8900, 17575, 29375, 10100,  3750, 16675, 28700, 35325, 30525,\n",
              "        9575,  5650,  3100, 26800, 36250, 18800, 29650,  4050, 14200,\n",
              "       24975, 13525, 30950, 12200, 28425, 34975, 19525, 32100, 32550,\n",
              "        8700, 13300, 25200,  7600,  4650, 26250,  5875, 12725, 11050,\n",
              "       27575, 20325,  5925, 15950, 38750, 29250, 20625,  3700,  7375,\n",
              "        3625, 26725,  7925,  5125, 12250, 10650, 27275,  4675,  1925,\n",
              "        9775, 18725,  4250,  1850, 16400,  6825,  7750, 29675, 22250,\n",
              "       24725, 18050, 35050, 26375, 27800, 27450, 29875,  4575, 32400,\n",
              "       21650,  3150, 12025,  5350, 25225, 15350, 27350, 11950,  3075,\n",
              "        8075, 29600, 30925, 33825,  6700, 10550, 29025,  1650, 22300,\n",
              "       16550,  6275, 34525, 13325, 22775,  8300,  4425, 34075,  8925,\n",
              "        8375, 32700, 19150,  6900, 32200,  8125,  5700, 31100, 10575,\n",
              "        3350,  8175, 14850,  1550, 11300, 14900, 15850, 20700, 22425,\n",
              "       16325,  1100, 38875,  2600,  4550, 14775, 24675, 12625,  5950,\n",
              "       12150, 16225, 34850, 29775, 23425, 35225,  1375, 22200, 13275,\n",
              "       30700, 35300,  5150, 16025, 15075,  1675, 35200, 18700,  4850,\n",
              "       12825, 21275, 16600,  3275, 10175, 20875, 34675, 17950,  6650,\n",
              "       17375, 22350, 14100, 36200, 11075, 34225,  6675, 23900, 27650,\n",
              "       21175, 36850,  7525, 26050, 36400, 31600,  5050, 20575, 18675,\n",
              "       19025, 29275, 19400, 15150,  6750, 11650, 22150, 24875, 16725,\n",
              "        6450, 33400,  5375, 13125,  5325,  9850,  4450, 17075, 31400,\n",
              "       29800,  3850, 36550, 19600,  7875,  5900, 31300,  1325, 39350,\n",
              "        6425,  8875, 15825, 11725, 21375, 14825, 17275, 21550, 29400,\n",
              "       26350,  7775, 30825, 10075,  7175, 13450, 28725, 22575, 27300,\n",
              "       28300, 23350, 15100, 35250, 13350, 31550, 17125, 18575, 12100,\n",
              "        8100,  2250, 37125,  8725, 11900,  6350, 30450, 12875, 20250,\n",
              "        3325, 36750,  2475,  4775, 20100, 21025, 15475,  6850, 14800,\n",
              "       22825, 24850, 22625, 20425, 32725, 15750,  4175, 24550, 10425,\n",
              "        8575, 24950,  6725,  4350, 16650, 24575, 34550, 38400, 23125,\n",
              "        7900, 22725,  7625, 14600, 17225,  8650, 30475, 17350, 19950,\n",
              "       21125, 34725, 29950, 32825, 33525,  3675, 13250, 11525, 11800,\n",
              "       26150, 21850, 30775, 16525, 36350, 35600,  6325, 39525, 34175,\n",
              "       20275, 19275, 15025,  4725, 16775, 11475, 19925, 23275,  9325,\n",
              "       33550, 26925, 26950, 39700,  2675, 27100, 13850, 21750, 37550,\n",
              "       24325,  9950, 20850, 22175, 26650, 17900, 10925, 16150, 22225,\n",
              "       31475, 33875,  9150,  3950, 14300, 22525, 35275, 12225, 29500,\n",
              "       28575, 12425,  3050, 10900,  8225, 32575, 32450, 29725, 39075,\n",
              "       28150, 24200,  1450, 18750, 36375, 29200,  4875, 21525, 28825,\n",
              "       12525,  9875, 26200, 21625, 12350, 15625, 32775,  6125, 28350,\n",
              "        5825, 38200, 11850, 19300, 30075, 18475, 34350,  7225, 21300,\n",
              "        7425, 14575, 24775, 23650, 39175, 27750, 17975, 19100, 18175,\n",
              "       30100, 37700, 22125, 23175, 30725, 31250, 33425, 11550, 29700,\n",
              "       26775,  9275, 25775, 26875, 19050, 30325, 34200, 10275, 33175,\n",
              "       14325, 21475, 20675, 20350, 36900,  1075, 33100, 24625,  2150,\n",
              "       24425, 19975, 15575, 21075, 11775, 13175, 28950,  2975, 33075,\n",
              "       20025, 25450])"
            ]
          },
          "metadata": {},
          "execution_count": 33
        }
      ]
    },
    {
      "cell_type": "code",
      "source": [
        "loan_ranges = raw_data['loan_amnt'].apply(CalculateLoanRanges)"
      ],
      "metadata": {
        "id": "aiu_snqAhgeJ"
      },
      "execution_count": 34,
      "outputs": []
    },
    {
      "cell_type": "code",
      "source": [
        "loan_ranges.value_counts()"
      ],
      "metadata": {
        "colab": {
          "base_uri": "https://localhost:8080/"
        },
        "id": "W6v7t2vmhuvP",
        "outputId": "206ccf60-d4cb-42be-fcf6-01d3842bcbd3"
      },
      "execution_count": 35,
      "outputs": [
        {
          "output_type": "execute_result",
          "data": {
            "text/plain": [
              "loan_amnt\n",
              "5K-10K           5063\n",
              "10K-15K          3472\n",
              "15K-20K          3118\n",
              "5K and Below     2898\n",
              "30K and Above    2268\n",
              "20K-25K          1834\n",
              "25K-30K          1347\n",
              "Name: count, dtype: int64"
            ]
          },
          "metadata": {},
          "execution_count": 35
        }
      ]
    },
    {
      "cell_type": "code",
      "source": [
        "f = plt.figure()\n",
        "loan_ranges.value_counts().plot.pie(autopct='%1.0f%%',)\n",
        "plt.title('Pie Chart of Loan Amount')\n"
      ],
      "metadata": {
        "colab": {
          "base_uri": "https://localhost:8080/",
          "height": 445
        },
        "id": "dV_T6sNiiDRt",
        "outputId": "09fffa4b-334f-47e3-a827-2925f505b60a"
      },
      "execution_count": 46,
      "outputs": [
        {
          "output_type": "execute_result",
          "data": {
            "text/plain": [
              "Text(0.5, 1.0, 'Pie Chart of Loan Amount')"
            ]
          },
          "metadata": {},
          "execution_count": 46
        },
        {
          "output_type": "display_data",
          "data": {
            "text/plain": [
              "<Figure size 640x480 with 1 Axes>"
            ],
            "image/png": "[encoded data removed]"
          },
          "metadata": {}
        }
      ]
    },
    {
      "cell_type": "code",
      "source": [
        "pur = raw_data['purpose'].value_counts()\n",
        "pur.plot(kind='bar')"
      ],
      "metadata": {
        "colab": {
          "base_uri": "https://localhost:8080/",
          "height": 592
        },
        "id": "-GtLeWY4jSfF",
        "outputId": "3049c074-8974-418f-cb97-ae0f8a2289eb"
      },
      "execution_count": 47,
      "outputs": [
        {
          "output_type": "execute_result",
          "data": {
            "text/plain": [
              "<Axes: xlabel='purpose'>"
            ]
          },
          "metadata": {},
          "execution_count": 47
        },
        {
          "output_type": "display_data",
          "data": {
            "text/plain": [
              "<Figure size 640x480 with 1 Axes>"
            ],
            "image/png": "[encoded data removed]"
          },
          "metadata": {}
        }
      ]
    },
    {
      "cell_type": "code",
      "source": [
        "raw_data.to_csv('cleaned_loans2007.csv', index=False,encoding='utf-8')"
      ],
      "metadata": {
        "id": "GRf_-gyGjU5k"
      },
      "execution_count": 48,
      "outputs": []
    }
  ]
}